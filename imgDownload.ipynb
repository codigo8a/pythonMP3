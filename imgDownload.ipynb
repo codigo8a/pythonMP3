{
 "cells": [
  {
   "cell_type": "code",
   "execution_count": null,
   "id": "4c7a8d4d-3219-474a-9d3a-20e99d5560f7",
   "metadata": {},
   "outputs": [],
   "source": [
    "pip install requests beautifulsoup4"
   ]
  },
  {
   "cell_type": "code",
   "execution_count": null,
   "id": "708583f3-fec4-47a0-b77c-202f6eae372b",
   "metadata": {},
   "outputs": [],
   "source": [
    "import requests\n",
    "from bs4 import BeautifulSoup\n",
    "import os\n",
    "from urllib.parse import urljoin\n",
    "\n",
    "def download_images(url, download_folder):\n",
    "    # Crear la carpeta de descarga si no existe\n",
    "    if not os.path.exists(download_folder):\n",
    "        os.makedirs(download_folder)\n",
    "\n",
    "    # Obtener el contenido de la página web\n",
    "    response = requests.get(url)\n",
    "    soup = BeautifulSoup(response.text, 'html.parser')\n",
    "    \n",
    "    # Encontrar todas las etiquetas <img>\n",
    "    img_tags = soup.find_all('a')\n",
    "\n",
    "    # Descargar cada imagen\n",
    "    for img_tag in img_tags:\n",
    "        img_url = img_tag.get('href')\n",
    "        if not img_url:\n",
    "            continue\n",
    "\n",
    "        # Manejar URLs relativas\n",
    "        img_url = urljoin(url, img_url)\n",
    "        img_name = os.path.basename(img_url)\n",
    "\n",
    "        try:\n",
    "            img_data = requests.get(img_url).content\n",
    "            img_path = os.path.join(download_folder, img_name)\n",
    "            with open(img_path, 'wb') as img_file:\n",
    "                img_file.write(img_data)\n",
    "            print(f\"Imagen descargada: {img_path}\")\n",
    "        except Exception as e:\n",
    "            print(f\"Error al descargar {img_url}: {e}\")\n",
    "\n",
    "\n"
   ]
  },
  {
   "cell_type": "code",
   "execution_count": null,
   "id": "086ee920-9bed-4e76-ab94-f139deece3cf",
   "metadata": {},
   "outputs": [],
   "source": [
    "web_url = 'https://guiadevalores.fasecolda.com/ConsultaFotos/'\n",
    "download_folder = 'descargas'"
   ]
  },
  {
   "cell_type": "code",
   "execution_count": null,
   "id": "b947e694-3436-4995-a7ef-24c8a4a64ebe",
   "metadata": {},
   "outputs": [],
   "source": [
    "download_images(web_url, download_folder)"
   ]
  },
  {
   "cell_type": "code",
   "execution_count": null,
   "id": "964dba76-aa01-41a3-8d5f-f24c71d11cb7",
   "metadata": {},
   "outputs": [],
   "source": []
  }
 ],
 "metadata": {
  "kernelspec": {
   "display_name": "Python [conda env:base] *",
   "language": "python",
   "name": "conda-base-py"
  },
  "language_info": {
   "codemirror_mode": {
    "name": "ipython",
    "version": 3
   },
   "file_extension": ".py",
   "mimetype": "text/x-python",
   "name": "python",
   "nbconvert_exporter": "python",
   "pygments_lexer": "ipython3",
   "version": "3.12.7"
  }
 },
 "nbformat": 4,
 "nbformat_minor": 5
}
