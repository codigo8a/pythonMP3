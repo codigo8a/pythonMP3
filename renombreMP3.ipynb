{
 "cells": [
  {
   "cell_type": "code",
   "execution_count": null,
   "id": "51f814bb-08ed-4af4-935a-21260ee741fe",
   "metadata": {},
   "outputs": [],
   "source": [
    "pip install mutagen"
   ]
  },
  {
   "cell_type": "code",
   "execution_count": null,
   "id": "e7651152-07e8-4067-bafd-8793cfcd03e0",
   "metadata": {},
   "outputs": [],
   "source": [
    "import os\n",
    "from mutagen.easyid3 import EasyID3"
   ]
  },
  {
   "cell_type": "code",
   "execution_count": 216,
   "id": "e3593dd2-8de2-498f-84f0-b6235ace269f",
   "metadata": {},
   "outputs": [],
   "source": [
    "path = r\"D:\\mp3\\Urbano\"\n",
    "os.chdir(path)"
   ]
  },
  {
   "cell_type": "code",
   "execution_count": 218,
   "id": "365dfc1b-3d07-4d91-af5f-31a1046e5ecf",
   "metadata": {},
   "outputs": [],
   "source": [
    "file_list = filter((lambda x: '.mp3' in x), os.listdir(path))"
   ]
  },
  {
   "cell_type": "code",
   "execution_count": 220,
   "id": "b1623d8f-e4a0-4421-b44b-8b71061a5cd0",
   "metadata": {},
   "outputs": [
    {
     "name": "stdout",
     "output_type": "stream",
     "text": [
      "file: Aventura - All Up To You.mp3\n",
      "All Up To You - Aventura.mp3\n",
      "renaming Aventura - All Up To You.mp3 to All Up To You - Aventura.mp3\n",
      "file: Daddy Yankee - Noche De Entierro.mp3\n",
      "Noche De Entierro - Daddy Yankee.mp3\n",
      "renaming Daddy Yankee - Noche De Entierro.mp3 to Noche De Entierro - Daddy Yankee.mp3\n",
      "file: Daddy Yankee Ft Fergie - Impacto.mp3\n",
      "Impacto - Daddy Yankee Ft Fergie.mp3\n",
      "renaming Daddy Yankee Ft Fergie - Impacto.mp3 to Impacto - Daddy Yankee Ft Fergie.mp3\n",
      "file: Don Omar -Virtual Diva.mp3\n",
      "Virtual Diva - Don Omar.mp3\n",
      "renaming Don Omar -Virtual Diva.mp3 to Virtual Diva - Don Omar.mp3\n",
      "file: Sofia Reyes - 1, 2, 3.mp3\n",
      "1, 2, 3 - Sofia Reyes.mp3\n",
      "renaming Sofia Reyes - 1, 2, 3.mp3 to 1, 2, 3 - Sofia Reyes.mp3\n"
     ]
    }
   ],
   "source": [
    "cont = 1\n",
    "for i in file_list:\n",
    "        print (\"file: \"+i)\n",
    "        try:\n",
    "                x = i.split(\".\")\n",
    "                y = x[0].split(\"-\")\n",
    "                if len(y) == 1:\n",
    "                    print(\">>> no tiene separador \\n\")\n",
    "                elif len(y) > 2:\n",
    "                    print(\">>> tiene más de un separador \\n\")\n",
    "                else:\n",
    "                    title = y[1].title().strip()\n",
    "                    artist = y[0].title().strip()             \n",
    "                    current = EasyID3(i)\n",
    "                    current['title'] = title\n",
    "                    current['artist'] = artist\n",
    "                    current['album'] = 'Vikingo'\n",
    "                    current['genre'] = 'Urbano'\n",
    "                    current.save()\n",
    "                    #newname = str(cont).zfill(3) + \" \" + title + \" - \" + artist + \".mp3\"\n",
    "                    newname = title + \" - \" + artist + \".mp3\"\n",
    "                    print(newname)\n",
    "                    #newname = current[\"title\"][0] + \" - \" + current[\"artist\"][0] + \".mp3\"\n",
    "                    #newname.replace(\" \", \"_\")\n",
    "                    del current\n",
    "                    print (\"renaming \"+i+\" to \"+newname)\n",
    "                    os.rename(i, newname)\n",
    "                cont = cont + 1\n",
    "        except:\n",
    "                print (\">>> that file didn't work for some reason.\")"
   ]
  },
  {
   "cell_type": "code",
   "execution_count": null,
   "id": "450bf861-e7f7-4926-89d1-e7d36c0053be",
   "metadata": {},
   "outputs": [],
   "source": []
  }
 ],
 "metadata": {
  "kernelspec": {
   "display_name": "Python 3 (ipykernel)",
   "language": "python",
   "name": "python3"
  },
  "language_info": {
   "codemirror_mode": {
    "name": "ipython",
    "version": 3
   },
   "file_extension": ".py",
   "mimetype": "text/x-python",
   "name": "python",
   "nbconvert_exporter": "python",
   "pygments_lexer": "ipython3",
   "version": "3.11.7"
  }
 },
 "nbformat": 4,
 "nbformat_minor": 5
}
